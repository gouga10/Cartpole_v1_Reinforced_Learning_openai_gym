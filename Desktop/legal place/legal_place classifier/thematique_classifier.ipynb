{
 "cells": [
  {
   "cell_type": "code",
   "execution_count": null,
   "metadata": {},
   "outputs": [],
   "source": [
    "import pandas as pd\n"
   ]
  },
  {
   "cell_type": "code",
   "execution_count": null,
   "metadata": {},
   "outputs": [],
   "source": [
    "gsheetid='1YQB5F4Tx0lmgSRQfmUAWeK9rMMbgXOicKl6gKG42SpY'\n",
    "sheet_name='Legal_dataset'"
   ]
  },
  {
   "cell_type": "code",
   "execution_count": null,
   "metadata": {},
   "outputs": [],
   "source": [
    "gsheet_url = \"https://docs.google.com/spreadsheets/d/{}/gviz/tq?tqx=out:csv&sheet={}\".format(gsheetid, sheet_name)\n",
    "gsheet_url"
   ]
  },
  {
   "cell_type": "code",
   "execution_count": null,
   "metadata": {},
   "outputs": [],
   "source": [
    "df=pd.read_csv(gsheet_url)\n",
    "column_name = 'Question'\n",
    "df.dropna(subset=[column_name], inplace=True)\n",
    "df1=df.iloc[:, [1, 4, 5]]\n",
    "ds = df1.dropna(how='all')\n",
    "ds=ds.rename(columns={'Thématique':'Thematique','Type de droit':'Type_de_droit'})\n"
   ]
  },
  {
   "cell_type": "code",
   "execution_count": null,
   "metadata": {},
   "outputs": [],
   "source": [
    "from dotenv import load_dotenv\n",
    "import os\n",
    "import openai\n",
    "load_dotenv()\n",
    "\n",
    "openai.api_key = os.getenv('OPENAI_API_KEY')\n",
    "openai.api_key = openai.api_key.replace(\"<\", \"\").replace(\">\", \"\")\n"
   ]
  },
  {
   "cell_type": "code",
   "execution_count": null,
   "metadata": {},
   "outputs": [],
   "source": [
    "def get_completion_from_messages(messages,\n",
    "                                 model=\"gpt-3.5-turbo-0613\",\n",
    "                                 temperature=0,\n",
    "                                 max_tokens=500):\n",
    "    response = openai.ChatCompletion.create(\n",
    "        model=model,\n",
    "        messages=messages,\n",
    "        temperature=temperature,\n",
    "        max_tokens=max_tokens,\n",
    "    )\n",
    "    return response.choices[0].message[\"content\"]"
   ]
  },
  {
   "cell_type": "code",
   "execution_count": null,
   "metadata": {},
   "outputs": [],
   "source": [
    "def evaluation(x):\n",
    "    delimiter = \"####\"\n",
    "    system_message = f\"\"\"\n",
    "    Étant donné le message d'un client d'une entreprise juridique,tu dois sélectionnez la categorie \n",
    "    la mieux adaptée à l'entrée. \n",
    "    le message du client sera delimité par {delimiter} \n",
    "\n",
    "    Vous recevrez les noms des categories \n",
    "    disponibles et une description de celle qui convient le mieux à l'entrée. \n",
    "\n",
    "    Renseignement_juridique =  une connaissance approfondie des lois, des réglementations et des meilleures pratiques en matière\n",
    "    de renseignement. Ce domaine implique la capacité de fournir des conseils juridiques et une orientation aux entreprises sur une\n",
    "    variété de sujets, tels que la gouvernance d'entreprise, les contrats, les fusions et acquisitions, la conformité et le règlement des litiges.\n",
    "    Les professionnels de ce domaine possèdent d'excellentes compétences \n",
    "    analytiques et de résolution de problèmes, et ils sont capables de naviguer efficacement dans des cadres juridiques complexes\n",
    "\n",
    "\n",
    "\n",
    "    Banque = une connaissance approfondie des lois et réglementations bancaires, ainsi que des meilleures pratiques du secteur. \n",
    "    Ce domaine implique une vaste expérience dans l'assistance aux clients en matière de services bancaires tels que l'ouverture de comptes, \n",
    "    les prêts, les investissements et la gestion des risques financiers. Les professionnels de ce domaine sont compétents pour fournir des conseils en matière de planification financière, \n",
    "    de gestion de trésorerie, de conformité réglementaire et de stratégies de croissance financière.\n",
    "    Ils comprennent les besoins spécifiques de chaque client et proposent des solutions bancaires personnalisées pour les aider à atteindre leurs objectifs.\n",
    "\n",
    "\n",
    "\n",
    "    Domiciliation = une connaissance approfondie des lois, réglementations et pratiques courantes en matière de domiciliation et de comptabilité. \n",
    "    Ce domaine implique une excellente compétence dans l'assistance et le soutien aux entreprises en matière de domiciliation, \n",
    "    de création de sociétés, de tenue de livres comptables et de déclarations fiscales. \n",
    "    Les professionnels de ce domaine ont une expertise dans l'établissement de contrats de location et de baux commerciaux, \n",
    "    ainsi que dans la gestion des obligations légales et administratives liées à la domiciliation d'entreprises. \n",
    "    Ils fournissent des conseils précieux et une expertise stratégique à leurs clients pour les aider à atteindre leurs objectifs commerciaux en matière de domiciliation et de comptabilité.\n",
    "\n",
    "\n",
    "    Comptabilite = une connaissance approfondie des principes comptables, de fiscalité, de choix de fiscalité, \n",
    "    des normes financières et des meilleures pratiques en matière de comptabilité. Ce domaine implique une expérience étendue dans la tenue des livres comptables,\n",
    "    l'établissement des états financiers, l'analyse des coûts et la gestion fiscale. Les professionnels de ce domaine sont compétents pour fournir des conseils en matière de gestion financière, \n",
    "    d'optimisation fiscale et de conformité réglementaire aux entreprises et aux particuliers.\n",
    "    Ils sont capables de comprendre les besoins financiers spécifiques de chaque client et de fournir des solutions personnalisées pour les aider à atteindre leurs objectifs financiers.\n",
    "\n",
    "    RAPPEL : la reponse DOIT être l'un des noms de consigne candidats spécifiés ci-dessus\n",
    "\n",
    "    voici quelques exemples de message et de la reponse demandée:\n",
    "\n",
    "\n",
    "    message=Je suis en train de créer ma holding, et je voudrais que la SASU que je possède déjà soit 100% détenue par la holding.\n",
    "    Mais dans le formulaire de création de la holding, je n'ai pas vu de point me permettant de saisir cette information. Comment faire?\n",
    "    reponse=Renseignement juridique\n",
    "\n",
    "    message=Bonjour, dans le cadre de l'ouverture de ma SASU, quels sont le domaine d'activité et les activités à sélectionner ? Je suis consultante en marketing et communication. Je vais également proposer des formations et des audit flash via mon site e commerce -> possibilité de commander un service et de l'acheter en ligne.\n",
    "    reponse=Renseignement juridique\n",
    "\n",
    "    message=Bonjour, j'aurai besoin d'un Kbis à jour. Pouvez vouez m'aider à m'en procurer un ? Merci\n",
    "    reponse=Renseignement juridique\n",
    " \n",
    "    message= mutuelle prendre en tant que gérant non associé de la EURL, est ce assimilé salarié ou travailleur non salariés car sur certains sites, il est mentionné que gérant non associé est (assimilé salarié), merci d'avance\n",
    "    reponse=Renseignement juridique\n",
    "\n",
    "    message=quelles démarches à réaliser auprès de l'URSSAF\n",
    "    reponse=Renseignement juridique\n",
    "\n",
    "    message=Bonjour, pour une SARL , l'associé minoritaire doit il obligatoirement être salarié dans les premiers mois de la création d'entreprise ?\n",
    "    reponse=Comptabilité\n",
    "\n",
    "    message=SCI à l'IS assujettie ou non à la TVA ?\n",
    "    reponse=Comptabilité\n",
    "\n",
    "    message=Je veux changer de banque pour mon compte pro et déposer le capital social et les statuts d l'entreprise dans une autre banque\n",
    "    reponse=Banque\n",
    "\n",
    "    message= Bonjour, je souhaite changer le siège sociale de ma SARL. Actuellement domicilié dans le 92 à Sèvres, je compte déménager dans mon futur local. J'ai signé une promesse de vente sur ce local et j'ai une autorisation de domiciliation du propriétaire (qui détient le local en SCI). Je souhaite savoir cela est possible avant que je ne sois définitivement propriétaire ou si je dois attente d'être propriétaire?\n",
    "    reponse=Domiciliation\n",
    "\n",
    "    \n",
    "\n",
    "    \"\"\"\n",
    "    user_message=x.Question\t\n",
    "    messages =  [  \n",
    "{'role':'system', \n",
    " 'content': system_message},    \n",
    "{'role':'user', \n",
    " 'content': f\"{delimiter}{user_message}{delimiter}\"},  \n",
    "] \n",
    "    response = get_completion_from_messages(messages)\n",
    "    evaluation= (response == x.Thematique)\n",
    "    return evaluation"
   ]
  },
  {
   "cell_type": "code",
   "execution_count": null,
   "metadata": {},
   "outputs": [],
   "source": [
    "ds_test=ds.iloc[1:25]\n",
    "ds_test"
   ]
  },
  {
   "cell_type": "code",
   "execution_count": null,
   "metadata": {},
   "outputs": [],
   "source": [
    "ds_test.apply(evaluation,axis=1)"
   ]
  },
  {
   "cell_type": "code",
   "execution_count": null,
   "metadata": {},
   "outputs": [],
   "source": []
  },
  {
   "cell_type": "code",
   "execution_count": null,
   "metadata": {},
   "outputs": [],
   "source": []
  },
  {
   "cell_type": "code",
   "execution_count": null,
   "metadata": {},
   "outputs": [],
   "source": []
  },
  {
   "cell_type": "code",
   "execution_count": null,
   "metadata": {},
   "outputs": [],
   "source": []
  },
  {
   "cell_type": "code",
   "execution_count": null,
   "metadata": {},
   "outputs": [],
   "source": []
  },
  {
   "cell_type": "code",
   "execution_count": null,
   "metadata": {},
   "outputs": [],
   "source": []
  },
  {
   "cell_type": "code",
   "execution_count": null,
   "metadata": {},
   "outputs": [],
   "source": []
  },
  {
   "cell_type": "code",
   "execution_count": null,
   "metadata": {},
   "outputs": [],
   "source": []
  },
  {
   "cell_type": "code",
   "execution_count": null,
   "metadata": {},
   "outputs": [],
   "source": []
  }
 ],
 "metadata": {
  "language_info": {
   "name": "python"
  },
  "orig_nbformat": 4
 },
 "nbformat": 4,
 "nbformat_minor": 2
}
